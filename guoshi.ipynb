{
 "cells": [
  {
   "cell_type": "code",
   "execution_count": 12,
   "metadata": {},
   "outputs": [],
   "source": [
    "import requests\n",
    "import pymysql\n",
    "import base64\n",
    "import pickle\n",
    "import time\n",
    "from datetime import datetime\n",
    "from bs4 import BeautifulSoup"
   ]
  },
  {
   "cell_type": "code",
   "execution_count": 15,
   "metadata": {},
   "outputs": [],
   "source": [
    "with open(\"pw.pkl\", \"wb\") as f:\n",
    "    pickle.dump(base64.b64encode(input(\"pw:\").encode('utf-8')), f)"
   ]
  },
  {
   "cell_type": "code",
   "execution_count": 19,
   "metadata": {},
   "outputs": [],
   "source": [
    "with open(\"pw.pkl\", \"rb\") as f:\n",
    "    pw = base64.b64decode(pickle.load(f)).decode('utf-8')"
   ]
  },
  {
   "cell_type": "code",
   "execution_count": 6,
   "metadata": {},
   "outputs": [],
   "source": [
    "ts = time.time()\n",
    "dt = datetime.fromtimestamp(ts).strftime(\"%Y-%m-%d\")\n",
    "\n",
    "signs_dict = {\"水瓶\":\"Aquarius\", \"雙魚\":\"Pisces\", \"牡羊\":\"Aries\", \n",
    "            \"金牛\":\"Taurus\", \"雙子\":\"Gemini\", \"巨蟹\":\"Cancer\", \n",
    "            \"獅子\":\"Leo\", \"處女\":\"Virgo\", \"天秤\":\"Libra\", \n",
    "            \"天蠍\":\"Scorpio\", \"射手\":\"Sagittarius\", \"摩羯\":\"Capricorn\"}"
   ]
  },
  {
   "cell_type": "code",
   "execution_count": 4,
   "metadata": {},
   "outputs": [],
   "source": [
    "def get_all_holoscopes():\n",
    "    # my_sign = input(\"請輸入你的星座（兩個字)：\")\n",
    "    url_head = \"http://www.daily-zodiac.com/zodiac/\"\n",
    "    htmls = []\n",
    "\n",
    "    for sign in signs_dict.values(): \n",
    "        url = url_head + sign\n",
    "        # print(url)\n",
    "        \n",
    "        html = requests.get(url).text\n",
    "        htmls.append(html)\n",
    "\n",
    "    # print(len(htmls))\n",
    "\n",
    "    soups = []\n",
    "    for html in htmls:\n",
    "        soup = BeautifulSoup(html, 'html.parser')\n",
    "        soups.append(soup)\n",
    "\n",
    "    holoscopes = []\n",
    "    for soup in soups:\n",
    "        holoscope = soup.find_all(\"meta\", property=\"og:description\")[0]['content']\n",
    "        # print(trend)\n",
    "        holoscopes.append(holoscope)\n",
    "\n",
    "    all_holoscopes = dict(zip(signs_dict.keys(), holoscopes))\n",
    "    return all_holoscopes"
   ]
  },
  {
   "cell_type": "code",
   "execution_count": 25,
   "metadata": {},
   "outputs": [
    {
     "data": {
      "text/plain": [
       "'2022-06-05'"
      ]
     },
     "execution_count": 25,
     "metadata": {},
     "output_type": "execute_result"
    }
   ],
   "source": [
    "dt"
   ]
  },
  {
   "cell_type": "code",
   "execution_count": 7,
   "metadata": {},
   "outputs": [],
   "source": [
    "all_holoscopes = get_all_holoscopes()"
   ]
  },
  {
   "cell_type": "code",
   "execution_count": 8,
   "metadata": {},
   "outputs": [
    {
     "data": {
      "text/plain": [
       "['水瓶', '雙魚', '牡羊', '金牛', '雙子', '巨蟹', '獅子', '處女', '天秤', '天蠍', '射手', '摩羯']"
      ]
     },
     "execution_count": 8,
     "metadata": {},
     "output_type": "execute_result"
    }
   ],
   "source": [
    "list(all_holoscopes.keys())"
   ]
  },
  {
   "cell_type": "code",
   "execution_count": 31,
   "metadata": {},
   "outputs": [],
   "source": [
    "data = tuple(i + tuple([dt]) for i in all_holoscopes.items())"
   ]
  },
  {
   "cell_type": "code",
   "execution_count": 32,
   "metadata": {},
   "outputs": [
    {
     "data": {
      "text/plain": [
       "(('水瓶',\n",
       "  '週末在環境或身體上都適合做清理的動作，可以讓你達到清靜的效果。感情部分建議和另一半聊內心的心結，進而增進彼此的關係。幸運色是黃色。',\n",
       "  '2022-06-05'),\n",
       " ('雙魚',\n",
       "  '週末會有加班或出乎意料的拖延情形，很多事最後一刻才會有結果，請放輕鬆，心情七上八下對事情也沒有幫助。感情方面很多事情傾向於多幫助、多配合對方，相信他會感受到你的誠意。幸運色是黃色。',\n",
       "  '2022-06-05'),\n",
       " ('牡羊',\n",
       "  '週末有些狀況會扭轉，例如：讓你放心的事情會生變，建議要提高警覺才好。感情方面會遇到舊情人或想到有關於他的事情，回憶湧上心頭讓你有所感觸。幸運色是紫色。',\n",
       "  '2022-06-05'),\n",
       " ('金牛',\n",
       "  '週末應酬很多，而你卻沒有心情參與且覺得勞累，因此事後要好好休息才行。感情部分溝通時會被另一半抓到語病，建議千萬不要撒謊。幸運色是藍色。',\n",
       "  '2022-06-05'),\n",
       " ('雙子',\n",
       "  '週末會有欲速則不達的狀況，建議要多一點耐性，才能讓事情順利進行。感情方面你會收到與前任相關的消息，例如：看到對方的訊息；不妨當作回顧就好。幸運色是紫色。',\n",
       "  '2022-06-05'),\n",
       " ('巨蟹',\n",
       "  '週末有一些責任義務在身上，因此讓你過得很忙碌。感情部分對於金錢的用途，另一半無法認同，建議雙方要好好溝通才行。幸運色是粉紅色。',\n",
       "  '2022-06-05'),\n",
       " ('獅子',\n",
       "  '週末提案很多使你不知道參與哪個，也許很多朋友邀約必須篩選，或很多場合有人獻殷勤不知如何應對，使你精神勞累。感情方面桃花運旺，所到之處容易吸引人目光，多參加聚會有機會認識不錯的人。幸運色是金色。',\n",
       "  '2022-06-05'),\n",
       " ('處女',\n",
       "  '週末有很多計畫都讓你感興趣，建議當決定某一個提案時，就不要有遺憾的心。感情方面正處於要不要接受對方的階段，進而也在挑戰別人的耐性。幸運色是藍色。',\n",
       "  '2022-06-05'),\n",
       " ('天秤',\n",
       "  '週末適合清理、清掃，例如：整理環境或剪頭髮、護膚…等，不妨讓自己和環境都煥然一新吧！感情方面彼此都喜歡輕鬆的相處模式，建議選擇靜態活動比較好。幸運色是橘色。',\n",
       "  '2022-06-05'),\n",
       " ('天蠍',\n",
       "  '週末很多事情本來是幫忙的性質，最後變成了義務，導致假期會非常忙碌。感情方面雙方距離越遠越有利，因為彼此都很忙碌，反而會對另一半好一點。幸運色是黃色。',\n",
       "  '2022-06-05'),\n",
       " ('射手',\n",
       "  '週末需要好好的休息，建議不要安排任何行程，讓身體和心情都能得到充電的感覺。感情方面彼此很有默契，凡事都可以同步進行，並相處得很愉快。幸運色是紅色。',\n",
       "  '2022-06-05'),\n",
       " ('摩羯',\n",
       "  '週末會為了別人而忙碌，雖然感到很辛苦，卻也能讓你享受這種被需要的感覺。感情方面你太過關心周遭的每個人，導致忽略了另一半，建議要調整一下態度。幸運色是黑色。',\n",
       "  '2022-06-05'))"
      ]
     },
     "execution_count": 32,
     "metadata": {},
     "output_type": "execute_result"
    }
   ],
   "source": [
    "data"
   ]
  },
  {
   "cell_type": "code",
   "execution_count": 9,
   "metadata": {},
   "outputs": [],
   "source": [
    "def upload_data(data):\n",
    "    with open(\"pw.pkl\", \"rb\") as f:\n",
    "        pw = base64.b64decode(pickle.load(f)).decode('utf-8')\n",
    "    \n",
    "    db = pymysql.connect(host=\"localhost\",user=\"root\",passwd=pw ,database=\"holoscopes\")\n",
    "    cursor = db.cursor()\n",
    "    \n",
    "    sql = \"INSERT INTO daily_holoscopes(sign, holoscopes, date, weekday) \\\n",
    "        VALUES (%s, %s, %s, %s)\"\n",
    "\n",
    "    try:\n",
    "        cursor.executemany(sql, data)\n",
    "        db.commit()\n",
    "\n",
    "    except Exception as e:\n",
    "        print(e)\n",
    "        db.rollback()\n",
    "\n",
    "    finally:\n",
    "        db.close()"
   ]
  }
 ],
 "metadata": {
  "interpreter": {
   "hash": "abe7738d944deb9fd7039599ea2cba86d5cfb55a9409f2737a1501f5b5f5b508"
  },
  "kernelspec": {
   "display_name": "Python 3.9.5 ('guoshi')",
   "language": "python",
   "name": "python3"
  },
  "language_info": {
   "codemirror_mode": {
    "name": "ipython",
    "version": 3
   },
   "file_extension": ".py",
   "mimetype": "text/x-python",
   "name": "python",
   "nbconvert_exporter": "python",
   "pygments_lexer": "ipython3",
   "version": "3.9.12"
  },
  "orig_nbformat": 2
 },
 "nbformat": 4,
 "nbformat_minor": 2
}
